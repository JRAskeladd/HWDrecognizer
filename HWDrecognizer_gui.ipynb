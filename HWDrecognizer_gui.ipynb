{
 "cells": [
  {
   "cell_type": "markdown",
   "id": "e861f7d5",
   "metadata": {},
   "source": [
    "# Imports"
   ]
  },
  {
   "cell_type": "code",
   "execution_count": 1,
   "id": "bf5b4b4b",
   "metadata": {},
   "outputs": [],
   "source": [
    "import numpy as np\n",
    "from tensorflow.keras.models import load_model\n",
    "\n",
    "import tkinter as tk\n",
    "from tkinter import *\n",
    "\n",
    "import win32gui\n",
    "\n",
    "from PIL import ImageGrab, Image, ImageOps"
   ]
  },
  {
   "cell_type": "code",
   "execution_count": 2,
   "id": "2ad271e2",
   "metadata": {},
   "outputs": [],
   "source": [
    "#Let's load the model\n",
    "model = load_model('mnist_model.h5')"
   ]
  },
  {
   "cell_type": "markdown",
   "id": "bd83c186",
   "metadata": {},
   "source": [
    "# Preparation\n",
    "\n",
    "Before building the GUI we should create functions to preprocess and predict our inputs.\n",
    "\n",
    "Same Data preprocessing steps in \"HWDrecognizer_model.ipynb\"\n",
    "\n",
    "* resize image to 28x28 px\n",
    "* convert rgb to grayscale\n",
    "* reshaping & normalizing to support our model input "
   ]
  },
  {
   "cell_type": "code",
   "execution_count": 3,
   "id": "b0bf7abb",
   "metadata": {},
   "outputs": [],
   "source": [
    "def to_digit(image):\n",
    "\n",
    "    image = image.resize((28,28))\n",
    "    image = image.convert('L')\n",
    "    #Training data has a 'bg' of black and drawing of white\n",
    "    #Our handwritten digit has a 'bg' of white and drawing of black\n",
    "    #We should use ImageOps to invert pixel values\n",
    "    image = ImageOps.invert(image)\n",
    "    image = np.array(image)\n",
    "    image = image.reshape(1,28,28,1)\n",
    "    image = image/255.0\n",
    "    \n",
    "    digit = model.predict([image])[0]\n",
    "    return np.argmax(digit), max(digit)"
   ]
  },
  {
   "cell_type": "markdown",
   "id": "5f60bf7e",
   "metadata": {},
   "source": [
    "# Building The GUI"
   ]
  },
  {
   "cell_type": "code",
   "execution_count": 4,
   "id": "088eff0c",
   "metadata": {},
   "outputs": [],
   "source": [
    "class Digitrecognizer(tk.Tk):\n",
    "    \n",
    "    def __init__(self):\n",
    "        tk.Tk.__init__(self)\n",
    "\n",
    "        self.x = self.y = 0\n",
    "        self.title(\"HWDrecognizer\")\n",
    "        \n",
    "        # Creating elements\n",
    "        self.canvas = tk.Canvas(self, width=300, height=300, bg = \"white\", cursor=\"arrow\")\n",
    "        self.label = tk.Label(self, text=\"Write\", font=(\"Helvetica\", 36))\n",
    "        self.classify_btn = tk.Button(self, text = \"Check\", command = self.recognizer)   \n",
    "        self.button_clear = tk.Button(self, text = \"Clear\", command = self.clear_all)\n",
    "       \n",
    "        # Grid structure\n",
    "        self.canvas.grid(row=0, column=0, pady=2, sticky=W)\n",
    "        self.label.grid(row=0, column=1,pady=2, padx=2)\n",
    "        self.classify_btn.grid(row=1, column=1, pady=2, padx=2)\n",
    "        self.button_clear.grid(row=1, column=0, pady=2)\n",
    "        \n",
    "        #self.canvas.bind(\"<Motion>\", self.start_pos)\n",
    "        self.canvas.bind(\"<B1-Motion>\", self.write)\n",
    "\n",
    "    def clear_all(self):\n",
    "        self.canvas.delete(\"all\")\n",
    "        \n",
    "    def recognizer(self):\n",
    "        HWND = self.canvas.winfo_id()\n",
    "        rect = win32gui.GetWindowRect(HWND)\n",
    "        a,b,c,d = rect\n",
    "        rect=(a+4,b+4,c-4,d-4)\n",
    "        frame = ImageGrab.grab(rect)\n",
    "\n",
    "        digit, accuracy = to_digit(frame)\n",
    "        self.label.configure(text='Your digit is: '+str(digit)+'\\n\\n'+'Accuracy: '+str(int(accuracy*100))+'%')\n",
    "\n",
    "    def write(self, event):\n",
    "        self.x = event.x\n",
    "        self.y = event.y\n",
    "        r=8\n",
    "        self.canvas.create_oval(self.x-r, self.y-r, self.x + r, self.y + r, fill='black')"
   ]
  },
  {
   "cell_type": "markdown",
   "id": "ebc78ed5",
   "metadata": {},
   "source": [
    "# Running our Application"
   ]
  },
  {
   "cell_type": "code",
   "execution_count": 5,
   "id": "8478e365",
   "metadata": {},
   "outputs": [],
   "source": [
    "run = Digitrecognizer()\n",
    "mainloop()"
   ]
  }
 ],
 "metadata": {
  "kernelspec": {
   "display_name": "Python 3",
   "language": "python",
   "name": "python3"
  },
  "language_info": {
   "codemirror_mode": {
    "name": "ipython",
    "version": 3
   },
   "file_extension": ".py",
   "mimetype": "text/x-python",
   "name": "python",
   "nbconvert_exporter": "python",
   "pygments_lexer": "ipython3",
   "version": "3.8.8"
  }
 },
 "nbformat": 4,
 "nbformat_minor": 5
}
